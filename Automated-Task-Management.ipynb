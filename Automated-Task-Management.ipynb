{
 "cells": [
  {
   "cell_type": "code",
   "execution_count": 1,
   "id": "9d85a2b9",
   "metadata": {},
   "outputs": [
    {
     "name": "stderr",
     "output_type": "stream",
     "text": [
      "[nltk_data] Downloading package wordnet to\n",
      "[nltk_data]     /Users/riyakhurana09/nltk_data...\n",
      "[nltk_data]   Package wordnet is already up-to-date!\n"
     ]
    },
    {
     "data": {
      "text/plain": [
       "True"
      ]
     },
     "execution_count": 1,
     "metadata": {},
     "output_type": "execute_result"
    }
   ],
   "source": [
    "# Installing required libraries\n",
    "\n",
    "import pandas as pd\n",
    "import nltk\n",
    "import numpy as np\n",
    "import re\n",
    "from pyjarowinkler import distance\n",
    "import datetime\n",
    "nltk.download('wordnet')"
   ]
  },
  {
   "cell_type": "code",
   "execution_count": 2,
   "id": "7391356f",
   "metadata": {},
   "outputs": [],
   "source": [
    "# Creating a list of tasks (verbs) commonly found in meeting transcripts\n",
    "\n",
    "task_list = pd.Series(['Review',\n",
    "'plan',\n",
    "'Determine',\n",
    "'Ensure',\n",
    "'Service',\n",
    "'Install',\n",
    "'approve',\n",
    "'Detect',\n",
    "'deactivate',\n",
    "'activate',\n",
    "'authenticate',\n",
    "'Identify',\n",
    "'meet',\n",
    "'Confirm',\n",
    "'register',\n",
    "'Notify',\n",
    "'Produce',\n",
    "'Execute',\n",
    "'Improve',\n",
    "'Assist',\n",
    "'Conduct',\n",
    "'finalize'])\n",
    "task_list = task_list.str.lower()"
   ]
  },
  {
   "cell_type": "code",
   "execution_count": 3,
   "id": "e29b18c1",
   "metadata": {},
   "outputs": [],
   "source": [
    "# from nltk.corpus import wordnet\n",
    "\n",
    "# task_list = task_list.apply(lambda x: np.squeeze([s for ss in wordnet.synsets(str(x)) for s in ss.lemma_names()])).apply(pd.Series).stack().drop_duplicates().reset_index(drop = True)\n",
    "# task_list = task_list.str.replace(\"_\",\" \")"
   ]
  },
  {
   "cell_type": "code",
   "execution_count": 4,
   "id": "8f481078",
   "metadata": {},
   "outputs": [],
   "source": [
    "# Creating a list of phrases commonly used in meetings\n",
    "\n",
    "Task_list_v2 = pd.Series(\n",
    "['Reach out'\n",
    ",'Follow through'\n",
    ",'Look after'\n",
    ",'Take on'\n",
    ",'Carry Out'\n",
    ",'Take Over'\n",
    ",'Take On'\n",
    ",'Take Care'\n",
    ",'Hand in'\n",
    ",'Call off'\n",
    ",'Take over'\n",
    ",'Talk over'\n",
    ",'Report back'\n",
    ",'Meet up'\n",
    ",'Draw up'])"
   ]
  },
  {
   "cell_type": "code",
   "execution_count": 5,
   "id": "5ad0ced7",
   "metadata": {},
   "outputs": [],
   "source": [
    "Task_list_v2 = Task_list_v2.str.lower()"
   ]
  },
  {
   "cell_type": "code",
   "execution_count": 6,
   "id": "7b6b82dd",
   "metadata": {},
   "outputs": [],
   "source": [
    "other_phrases = pd.Series(['can you','have you','will you','we should','we must','we need'])"
   ]
  },
  {
   "cell_type": "code",
   "execution_count": 7,
   "id": "d8c5b532",
   "metadata": {},
   "outputs": [],
   "source": [
    "task_list = pd.concat([task_list,Task_list_v2])\n",
    "task_list = task_list.reset_index(drop = True)"
   ]
  },
  {
   "cell_type": "code",
   "execution_count": 8,
   "id": "1f8ca61d",
   "metadata": {},
   "outputs": [],
   "source": [
    "task_list = pd.concat([task_list,other_phrases])\n",
    "task_list = task_list.drop_duplicates().reset_index(drop = True).str.lower()"
   ]
  },
  {
   "cell_type": "code",
   "execution_count": 9,
   "id": "af1a6921",
   "metadata": {},
   "outputs": [],
   "source": [
    "task_list.to_csv('task_list.csv', index = False)"
   ]
  },
  {
   "cell_type": "code",
   "execution_count": null,
   "id": "2e39b0e5",
   "metadata": {},
   "outputs": [],
   "source": [
    "filename = \"/Users/riyakhurana09/Desktop/Github/Team18_Trends-master/script.txt\"\n",
    "\n",
    "with open(filename, 'r') as f:\n",
    "    text = f.readlines()\n",
    "text[10]"
   ]
  },
  {
   "cell_type": "code",
   "execution_count": 11,
   "id": "655d18ec",
   "metadata": {},
   "outputs": [],
   "source": [
    "def get_tasks(text, task_list, other_phrases):\n",
    "    \n",
    "    text = [re.sub(r'\\d+:\\d+', '', a) for a in text]\n",
    "    text = [a.replace(\":\",\"\").replace(\"\\n\",\"\").replace(\"?\",\".\").lower() for a in text]\n",
    "    text = [re.sub(r'[^\\w\\s]','',a) for a in text]\n",
    "    text = [a for a in text if len(a) != 0]\n",
    "    text = [re.sub(' +', ' ',a) for a in text]\n",
    "    text = [a.strip() for a in text]\n",
    "    \n",
    "    result = []\n",
    "    for sentence in text:\n",
    "        flag = 0\n",
    "        s = sentence\n",
    "        \n",
    "        \n",
    "        \n",
    "        t1 = pd.Series([word for word in task_list if len(word.split()) == 1])\n",
    "        t2 = pd.Series([word for word in task_list if len(word.split()) == 2])\n",
    "        \n",
    "        \n",
    "        sentence = sentence.strip().split(' ')\n",
    "\n",
    "        max_d = 0\n",
    "        for word in sentence:\n",
    "\n",
    "            for verb in t1:\n",
    "                #print('word = ' + word + ', verb = ' + verb)\n",
    "                d = distance.get_jaro_distance(verb, word, winkler=True, scaling=0.1)\n",
    "                \n",
    "                if d > 0.95:\n",
    "                    print('word = ' + word + ', verb = ' + verb)\n",
    "                \n",
    "                if d > max_d:\n",
    "                    max_d = d\n",
    "               \n",
    "\n",
    "        if max_d > 0.95:\n",
    "            result.append(s)\n",
    "            flag = 1\n",
    "\n",
    "        all_words = []\n",
    "\n",
    "        \n",
    "        \n",
    "        \n",
    "            \n",
    "        line_l = s.strip().split()\n",
    "        all_words = all_words + line_l\n",
    "\n",
    "        bi_grams = [str(all_words[i]) + ' ' + str(all_words[i+1]) for i in range(len(all_words)-1)]\n",
    "\n",
    "        max_d = 0\n",
    "\n",
    "        for phrases in bi_grams:\n",
    "\n",
    "            for verb in t2:\n",
    "                #\\print('word = ' + phrases + ', verb = ' + verb)\n",
    "                d = distance.get_jaro_distance(verb, phrases, winkler=True, scaling=0.1)\n",
    "                \n",
    "                if d > 0.95:\n",
    "                    print('word = ' + phrases + ', verb = ' + verb)\n",
    "                \n",
    "                if d > max_d:\n",
    "                    max_d = d\n",
    "                \n",
    "\n",
    "        if max_d > 0.95:\n",
    "            if flag == 0: \n",
    "                result.append(s)\n",
    "                flag = 1\n",
    "            \n",
    "    return result"
   ]
  },
  {
   "cell_type": "code",
   "execution_count": 12,
   "id": "dfa0babf",
   "metadata": {},
   "outputs": [],
   "source": [
    "df = pd.DataFrame()"
   ]
  },
  {
   "cell_type": "code",
   "execution_count": 13,
   "id": "be549bba",
   "metadata": {},
   "outputs": [
    {
     "name": "stdout",
     "output_type": "stream",
     "text": [
      "word = take care, verb = take care\n",
      "word = meet, verb = meet\n",
      "word = improve, verb = improve\n",
      "word = draw up, verb = draw up\n",
      "word = review, verb = review\n",
      "word = meet, verb = meet\n"
     ]
    }
   ],
   "source": [
    "df['Action_Item'] = pd.Series(get_tasks(text, task_list, other_phrases))\n",
    "df['Task ID'] = pd.Series(range(0,len(df['Action_Item'])))  \n",
    "df['Date'] = datetime.date.today()  \n",
    "df['Summary'] = ''  \n",
    "df['Owner'] = ''    \n",
    "df['Supervisor'] = 'Manager Name'\n",
    "df['Status'] = 'WIP'   \n",
    "df['Target Completion Date'] = df['Date'] + datetime.timedelta(weeks=1)"
   ]
  },
  {
   "cell_type": "code",
   "execution_count": 14,
   "id": "91f2cd86",
   "metadata": {},
   "outputs": [],
   "source": [
    "df = df[['Task ID','Date','Action_Item','Owner','Status','Target Completion Date']]\n",
    "# df['Date'] = df['Date'].apply(lambda x: str(x))\n",
    "# df['Target Completion Date'] = df['Target Completion Date'].apply(lambda x: str(x))"
   ]
  },
  {
   "cell_type": "code",
   "execution_count": 15,
   "id": "d7f9894d",
   "metadata": {},
   "outputs": [],
   "source": [
    "df.to_csv('Output.csv')"
   ]
  },
  {
   "cell_type": "code",
   "execution_count": 16,
   "id": "621f1bd2",
   "metadata": {},
   "outputs": [
    {
     "name": "stdout",
     "output_type": "stream",
     "text": [
      "Requirement already satisfied: dash in /Users/riyakhurana09/opt/anaconda3/envs/tf2/lib/python3.8/site-packages (2.4.1)\n",
      "Requirement already satisfied: dash-core-components==2.0.0 in /Users/riyakhurana09/opt/anaconda3/envs/tf2/lib/python3.8/site-packages (from dash) (2.0.0)\n",
      "Requirement already satisfied: dash-html-components==2.0.0 in /Users/riyakhurana09/opt/anaconda3/envs/tf2/lib/python3.8/site-packages (from dash) (2.0.0)\n",
      "Requirement already satisfied: dash-table==5.0.0 in /Users/riyakhurana09/opt/anaconda3/envs/tf2/lib/python3.8/site-packages (from dash) (5.0.0)\n",
      "Requirement already satisfied: Flask>=1.0.4 in /Users/riyakhurana09/opt/anaconda3/envs/tf2/lib/python3.8/site-packages (from dash) (2.1.0)\n",
      "Requirement already satisfied: flask-compress in /Users/riyakhurana09/opt/anaconda3/envs/tf2/lib/python3.8/site-packages (from dash) (1.12)\n",
      "Requirement already satisfied: plotly>=5.0.0 in /Users/riyakhurana09/opt/anaconda3/envs/tf2/lib/python3.8/site-packages (from dash) (5.8.0)\n",
      "Requirement already satisfied: importlib-metadata in /Users/riyakhurana09/opt/anaconda3/envs/tf2/lib/python3.8/site-packages (from Flask>=1.0.4->dash) (4.10.1)\n",
      "Requirement already satisfied: Werkzeug>=2.0 in /Users/riyakhurana09/opt/anaconda3/envs/tf2/lib/python3.8/site-packages (from Flask>=1.0.4->dash) (2.1.2)\n",
      "Requirement already satisfied: Jinja2>=3.0 in /Users/riyakhurana09/opt/anaconda3/envs/tf2/lib/python3.8/site-packages (from Flask>=1.0.4->dash) (3.0.3)\n",
      "Requirement already satisfied: itsdangerous>=2.0 in /Users/riyakhurana09/opt/anaconda3/envs/tf2/lib/python3.8/site-packages (from Flask>=1.0.4->dash) (2.1.2)\n",
      "Requirement already satisfied: click>=8.0 in /Users/riyakhurana09/opt/anaconda3/envs/tf2/lib/python3.8/site-packages (from Flask>=1.0.4->dash) (8.1.3)\n",
      "Requirement already satisfied: tenacity>=6.2.0 in /Users/riyakhurana09/opt/anaconda3/envs/tf2/lib/python3.8/site-packages (from plotly>=5.0.0->dash) (8.0.1)\n",
      "Requirement already satisfied: brotli in /Users/riyakhurana09/opt/anaconda3/envs/tf2/lib/python3.8/site-packages (from flask-compress->dash) (1.0.9)\n",
      "Requirement already satisfied: MarkupSafe>=2.0 in /Users/riyakhurana09/opt/anaconda3/envs/tf2/lib/python3.8/site-packages (from Jinja2>=3.0->Flask>=1.0.4->dash) (2.0.1)\n",
      "Requirement already satisfied: zipp>=0.5 in /Users/riyakhurana09/opt/anaconda3/envs/tf2/lib/python3.8/site-packages (from importlib-metadata->Flask>=1.0.4->dash) (3.7.0)\n",
      "Note: you may need to restart the kernel to use updated packages.\n"
     ]
    }
   ],
   "source": [
    "pip install dash"
   ]
  },
  {
   "cell_type": "code",
   "execution_count": 17,
   "id": "566dfd06",
   "metadata": {},
   "outputs": [
    {
     "name": "stderr",
     "output_type": "stream",
     "text": [
      "/var/folders/3m/rd99c4d11yb5y_51t0z4rq9m0000gn/T/ipykernel_14467/4292900259.py:3: UserWarning: \n",
      "The dash_table package is deprecated. Please replace\n",
      "`import dash_table` with `from dash import dash_table`\n",
      "\n",
      "Also, if you're using any of the table format helpers (e.g. Group), replace \n",
      "`from dash_table.Format import Group` with \n",
      "`from dash.dash_table.Format import Group`\n",
      "  import dash_table\n",
      "/var/folders/3m/rd99c4d11yb5y_51t0z4rq9m0000gn/T/ipykernel_14467/4292900259.py:4: UserWarning: \n",
      "The dash_core_components package is deprecated. Please replace\n",
      "`import dash_core_components as dcc` with `from dash import dcc`\n",
      "  import dash_core_components as dcc\n",
      "/var/folders/3m/rd99c4d11yb5y_51t0z4rq9m0000gn/T/ipykernel_14467/4292900259.py:5: UserWarning: \n",
      "The dash_html_components package is deprecated. Please replace\n",
      "`import dash_html_components as html` with `from dash import html`\n",
      "  import dash_html_components as html\n"
     ]
    }
   ],
   "source": [
    "import dash\n",
    "from dash.dependencies import Input, Output\n",
    "import dash_table\n",
    "import dash_core_components as dcc\n",
    "import dash_html_components as html\n",
    "import plotly.express as px\n",
    "import pandas as pd"
   ]
  },
  {
   "cell_type": "code",
   "execution_count": null,
   "id": "fc387c45",
   "metadata": {},
   "outputs": [
    {
     "name": "stdout",
     "output_type": "stream",
     "text": [
      "Dash is running on http://127.0.0.1:8050/\n",
      "\n",
      " * Serving Flask app '__main__' (lazy loading)\n",
      " * Environment: production\n",
      "\u001b[31m   WARNING: This is a development server. Do not use it in a production deployment.\u001b[0m\n",
      "\u001b[2m   Use a production WSGI server instead.\u001b[0m\n",
      " * Debug mode: off\n"
     ]
    },
    {
     "name": "stderr",
     "output_type": "stream",
     "text": [
      " * Running on http://127.0.0.1:8050 (Press CTRL+C to quit)\n",
      "127.0.0.1 - - [21/May/2022 10:51:05] \"GET / HTTP/1.1\" 200 -\n",
      "127.0.0.1 - - [21/May/2022 10:51:05] \"GET /_dash-component-suites/dash/deps/polyfill@7.v2_4_1m1652329097.12.1.min.js HTTP/1.1\" 200 -\n",
      "127.0.0.1 - - [21/May/2022 10:51:05] \"GET /_dash-component-suites/dash/deps/react@16.v2_4_1m1652329097.14.0.min.js HTTP/1.1\" 200 -\n",
      "127.0.0.1 - - [21/May/2022 10:51:05] \"GET /_dash-component-suites/dash/deps/react-dom@16.v2_4_1m1652329097.14.0.min.js HTTP/1.1\" 200 -\n",
      "127.0.0.1 - - [21/May/2022 10:51:05] \"GET /_dash-component-suites/dash/deps/prop-types@15.v2_4_1m1652329097.8.1.min.js HTTP/1.1\" 200 -\n",
      "127.0.0.1 - - [21/May/2022 10:51:05] \"GET /_dash-component-suites/dash/dash-renderer/build/dash_renderer.v2_4_1m1652329097.min.js HTTP/1.1\" 200 -\n",
      "127.0.0.1 - - [21/May/2022 10:51:05] \"GET /_dash-component-suites/dash/dcc/dash_core_components.v2_4_0m1652329097.js HTTP/1.1\" 200 -\n",
      "127.0.0.1 - - [21/May/2022 10:51:05] \"GET /_dash-component-suites/dash/dcc/dash_core_components-shared.v2_4_0m1652329097.js HTTP/1.1\" 200 -\n",
      "127.0.0.1 - - [21/May/2022 10:51:05] \"GET /_dash-component-suites/dash/html/dash_html_components.v2_0_3m1652329097.min.js HTTP/1.1\" 200 -\n",
      "127.0.0.1 - - [21/May/2022 10:51:05] \"GET /_dash-component-suites/dash/dash_table/bundle.v5_1_2m1652329097.js HTTP/1.1\" 200 -\n",
      "127.0.0.1 - - [21/May/2022 10:51:05] \"GET /_dash-layout HTTP/1.1\" 200 -\n",
      "127.0.0.1 - - [21/May/2022 10:51:05] \"GET /_dash-dependencies HTTP/1.1\" 200 -\n",
      "127.0.0.1 - - [21/May/2022 10:51:05] \"GET /_favicon.ico?v=2.4.1 HTTP/1.1\" 200 -\n",
      "127.0.0.1 - - [21/May/2022 10:51:05] \"GET /_dash-component-suites/dash/dash_table/async-highlight.js HTTP/1.1\" 200 -\n",
      "127.0.0.1 - - [21/May/2022 10:51:05] \"GET /_dash-component-suites/dash/dash_table/async-table.js HTTP/1.1\" 200 -\n"
     ]
    }
   ],
   "source": [
    "# App layout\n",
    "app = dash.Dash(__name__, prevent_initial_callbacks=True) # this was introduced in Dash version 1.12.0\n",
    "# Sorting operators (https://dash.plotly.com/datatable/filtering)\n",
    "app.layout = html.Div([\n",
    "    dash_table.DataTable(\n",
    "        id='datatable-interactivity',\n",
    "        columns=[\n",
    "            {\"name\": i, \"id\": i, \"deletable\": True, \"selectable\": True, \"hideable\": True}\n",
    "            if i == \"id\"\n",
    "            else {\"name\": i, \"id\": i, \"deletable\": True, \"selectable\": True}\n",
    "            for i in df.columns\n",
    "        ],\n",
    "        data=df.to_dict('records'),  # the contents of the table\n",
    "        editable=True,              # allow editing of data inside all cells\n",
    "        filter_action=\"native\",     # allow filtering of data by user ('native') or not ('none')\n",
    "        sort_action=\"native\",       # enables data to be sorted per-column by user or not ('none')\n",
    "        sort_mode=\"single\",         # sort across 'multi' or 'single' columns\n",
    "        column_selectable=\"multi\",  # allow users to select 'multi' or 'single' columns\n",
    "        row_selectable=\"multi\",     # allow users to select 'multi' or 'single' rows\n",
    "        row_deletable=True,         # choose if user can delete a row (True) or not (False)\n",
    "        selected_columns=[],        # ids of columns that user selects\n",
    "        selected_rows=[],           # indices of rows that user selects\n",
    "        page_action=\"native\",       # all data is passed to the table up-front or not ('none')\n",
    "        page_current=0,             # page number that user is on\n",
    "        page_size=10,                # number of rows visible per page\n",
    "        style_cell={                # ensure adequate header width when text is shorter than cell's text\n",
    "            'minWidth': 50, 'maxWidth': 700, 'width': 95\n",
    "        },\n",
    "        style_data={                # overflow cells' content into multiple lines\n",
    "            'whiteSpace': 'black',\n",
    "            'height': 'auto',\n",
    "            'backgroundColor': 'white'\n",
    "        },\n",
    "        style_cell_conditional=[\n",
    "            {\n",
    "            'textAlign': 'left',\n",
    "            'backgroundColor': 'rgb(220, 220, 220)'\n",
    "            }\n",
    "    ],\n",
    "    style_header={\n",
    "        'textAlign': 'left',\n",
    "        'backgroundColor': 'rgb(210, 210, 210)',\n",
    "        'color': 'black',\n",
    "        'fontWeight': 'bold'\n",
    "    }\n",
    "    )\n",
    "])\n",
    "\n",
    "@app.callback(\n",
    "    Output('datatable-interactivity', 'style_data_conditional'),\n",
    "    [Input('datatable-interactivity', 'selected_columns')]\n",
    ")\n",
    "def update_styles(selected_columns):\n",
    "    return [{\n",
    "        'if': {'column_id': i},\n",
    "        'background_color': '#D2F3FF'\n",
    "    } for i in selected_columns]\n",
    "\n",
    "if __name__ == '__main__':\n",
    "    app.run_server()"
   ]
  },
  {
   "cell_type": "code",
   "execution_count": null,
   "id": "bc205918",
   "metadata": {},
   "outputs": [],
   "source": []
  }
 ],
 "metadata": {
  "kernelspec": {
   "display_name": "Python 3 (ipykernel)",
   "language": "python",
   "name": "python3"
  },
  "language_info": {
   "codemirror_mode": {
    "name": "ipython",
    "version": 3
   },
   "file_extension": ".py",
   "mimetype": "text/x-python",
   "name": "python",
   "nbconvert_exporter": "python",
   "pygments_lexer": "ipython3",
   "version": "3.8.12"
  }
 },
 "nbformat": 4,
 "nbformat_minor": 5
}
